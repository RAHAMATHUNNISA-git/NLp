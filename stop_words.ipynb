{
  "nbformat": 4,
  "nbformat_minor": 0,
  "metadata": {
    "colab": {
      "provenance": []
    },
    "kernelspec": {
      "name": "python3",
      "display_name": "Python 3"
    },
    "language_info": {
      "name": "python"
    }
  },
  "cells": [
    {
      "cell_type": "code",
      "execution_count": 16,
      "metadata": {
        "id": "qp6eE17KGX0f"
      },
      "outputs": [],
      "source": []
    },
    {
      "cell_type": "markdown",
      "source": [
        "stop words:\n",
        "Stop words are those words that do not contribute to the deeper meaning of the phrase. They are the most common words such as: the, a, and is. For some applications like documentation classification, it may make sense to remove stop words. NLTK provides a list of commonly agreed upon stop words for a variety of languages, such as English..\n",
        "\n"
      ],
      "metadata": {
        "id": "R2cI3R4nXxI7"
      }
    },
    {
      "cell_type": "code",
      "source": [
        "import spacy\n",
        "nlp = spacy.load(\"en_core_web_sm\")"
      ],
      "metadata": {
        "id": "ZDXidErkYS8U"
      },
      "execution_count": 17,
      "outputs": []
    },
    {
      "cell_type": "code",
      "source": [
        "import nltk        #first import nltk libraries\n",
        "nltk.download('stopwords')    #and download the stopword"
      ],
      "metadata": {
        "colab": {
          "base_uri": "https://localhost:8080/"
        },
        "id": "tgi0Yk7sZDvz",
        "outputId": "ee37d3d0-8e5b-49de-da58-a7da17db82ae"
      },
      "execution_count": 18,
      "outputs": [
        {
          "output_type": "stream",
          "name": "stderr",
          "text": [
            "[nltk_data] Downloading package stopwords to /root/nltk_data...\n",
            "[nltk_data]   Package stopwords is already up-to-date!\n"
          ]
        },
        {
          "output_type": "execute_result",
          "data": {
            "text/plain": [
              "True"
            ]
          },
          "metadata": {},
          "execution_count": 18
        }
      ]
    },
    {
      "cell_type": "code",
      "source": [
        "print(nlp.Defaults.stop_words)"
      ],
      "metadata": {
        "colab": {
          "base_uri": "https://localhost:8080/"
        },
        "id": "JeU2xZfhZXo0",
        "outputId": "59254176-9ed9-4b34-99b9-faecba064529"
      },
      "execution_count": 19,
      "outputs": [
        {
          "output_type": "stream",
          "name": "stdout",
          "text": [
            "{'ten', 'eleven', 'anywhere', 'latter', 'above', 'until', 'she', 'various', 'except', 'thereafter', 'had', 'even', 'whole', 'among', 'again', 'her', 'in', 'made', 'something', 'just', 'however', 'down', 'unless', 'yourselves', 'two', 'himself', 'seeming', 'see', 'behind', 'whereupon', \"'ll\", 'should', 'keep', 'almost', 'enough', 'either', 'seems', 'thereupon', '‘d', 'without', 'ever', 'third', 'where', 'next', 'bottom', 'so', 'towards', 'n‘t', 'afterwards', 'while', 'every', 'during', '’ve', 'could', 'some', 'their', 'does', '’m', 'it', 'across', 'three', 'around', 'whereas', 'wherever', 'of', 'elsewhere', 'did', 'have', 'its', 'because', 'though', 'move', 'here', 'indeed', 'our', 'up', 'cannot', 'can', 'one', 'serious', 'now', 'full', 'might', 'else', 'four', 'everywhere', 'must', 'least', 'get', 'this', 'back', 'sixty', 'anyone', 'your', 'into', 'never', 'somewhere', 'those', 'from', 'us', 'most', 'last', 'noone', 'why', 'on', 'between', 'nobody', 'these', \"'s\", 'due', 'anything', 'hence', 'everyone', 'over', 'seemed', 'thru', 'more', 'ours', 'quite', 'twenty', 'give', 'another', 'if', 'for', 'after', '‘re', 'throughout', 'n’t', \"'ve\", 'moreover', 'they', 'will', 'none', 'not', 'other', 'used', 'both', 'therein', 'also', 'along', 're', 'i', 'thus', 'beforehand', 'out', '’s', 'which', 'via', 'the', 'whatever', 'against', 'mystery', 'am', 'all', 'toward', 'amount', 'whither', 'he', 'using', 'front', 'about', 'within', '’d', 'but', 'each', 'whoever', 'who', 'since', 'there', 'already', 'them', 'would', 'myself', 'his', 'go', 'before', 'herein', 'yet', 'further', \"'d\", 'at', 'through', 'whereby', '‘s', 'former', 'latterly', 'becomes', 'how', 'less', 'such', 'thence', 'nine', 'been', 'were', 'regarding', 'anyway', 'somehow', 'do', \"n't\", 'sometimes', 'my', 'are', 'first', 'top', 'whenever', 'empty', 'seem', 'very', 'nowhere', 'as', 'him', 'own', 'anyhow', 'was', 'whose', 'herself', 'eight', 'although', 'fifty', '‘ll', 'formerly', 'becoming', 'me', 'much', 'or', 'alone', 'show', 'part', 'has', 'sometime', 'with', 'hers', 'perhaps', 'no', 'namely', 'and', 'hereupon', 'twelve', 'otherwise', 'when', 'rather', 'make', 'then', 'side', 'too', 'mostly', 'besides', 'several', 'themselves', 'under', 'amongst', 'thereby', 'whether', 'a', 'hereafter', 'nevertheless', 'upon', 'once', 'neither', 'doing', 'only', 'everything', 'someone', 'done', 'below', 'take', 'hereby', 'nor', 'what', 'mine', 'hundred', 'therefore', 'call', 'whence', 'six', 'yourself', 'beside', 'itself', 'off', 'yours', '‘ve', 'ourselves', \"'re\", 'may', 'you', 'meanwhile', 'we', 'always', 'any', 'whereafter', 'that', 'be', 'put', 'is', 'please', 'really', 'together', 'name', '’ll', 'than', 'by', 'became', 'many', 'an', 'still', 'nothing', \"'m\", 'fifteen', 'well', 'often', 'become', 'ca', 'whom', 'per', 'wherein', 'five', 'same', 'onto', 'others', '‘m', 'say', '’re', 'being', 'forty', 'to', 'few'}\n"
          ]
        }
      ]
    },
    {
      "cell_type": "code",
      "source": [
        "len(nlp.Defaults.stop_words)"
      ],
      "metadata": {
        "colab": {
          "base_uri": "https://localhost:8080/"
        },
        "id": "5cdgiCShcPUH",
        "outputId": "aec0d626-7147-4a0e-a5f8-abcb454e8b2d"
      },
      "execution_count": 20,
      "outputs": [
        {
          "output_type": "execute_result",
          "data": {
            "text/plain": [
              "326"
            ]
          },
          "metadata": {},
          "execution_count": 20
        }
      ]
    },
    {
      "cell_type": "code",
      "source": [
        "nlp.vocab['myself'].is_stop"
      ],
      "metadata": {
        "colab": {
          "base_uri": "https://localhost:8080/"
        },
        "id": "RVQuF7i7cUZZ",
        "outputId": "9c19269d-5ac3-49c6-cc99-c83b99119cda"
      },
      "execution_count": 21,
      "outputs": [
        {
          "output_type": "execute_result",
          "data": {
            "text/plain": [
              "True"
            ]
          },
          "metadata": {},
          "execution_count": 21
        }
      ]
    },
    {
      "cell_type": "code",
      "source": [
        "nlp.vocab['mystery'].is_stop"
      ],
      "metadata": {
        "colab": {
          "base_uri": "https://localhost:8080/"
        },
        "id": "9wQe6t1_cnP-",
        "outputId": "d1cc7927-d264-4ea2-c511-5cc5f21f754a"
      },
      "execution_count": 22,
      "outputs": [
        {
          "output_type": "execute_result",
          "data": {
            "text/plain": [
              "True"
            ]
          },
          "metadata": {},
          "execution_count": 22
        }
      ]
    },
    {
      "cell_type": "code",
      "source": [
        "nlp.Defaults.stop_words.add('mystery')"
      ],
      "metadata": {
        "id": "cpbCpj2ScvqO"
      },
      "execution_count": 23,
      "outputs": []
    },
    {
      "cell_type": "code",
      "source": [
        "nlp.vocab['mystery'].is_stop = True"
      ],
      "metadata": {
        "id": "elHB9YT_c8Yu"
      },
      "execution_count": 24,
      "outputs": []
    },
    {
      "cell_type": "code",
      "source": [
        "len(nlp.Defaults.stop_words)"
      ],
      "metadata": {
        "colab": {
          "base_uri": "https://localhost:8080/"
        },
        "id": "8VSxk6BEdRz-",
        "outputId": "dbd65d66-297e-4fbe-a976-ebad1c2e6942"
      },
      "execution_count": 25,
      "outputs": [
        {
          "output_type": "execute_result",
          "data": {
            "text/plain": [
              "326"
            ]
          },
          "metadata": {},
          "execution_count": 25
        }
      ]
    },
    {
      "cell_type": "code",
      "source": [
        "nlp.vocab['mystery'].is_stop"
      ],
      "metadata": {
        "colab": {
          "base_uri": "https://localhost:8080/"
        },
        "id": "GCmW96UwdaTf",
        "outputId": "7812e579-6a17-4a83-f593-256a280ac9a6"
      },
      "execution_count": 26,
      "outputs": [
        {
          "output_type": "execute_result",
          "data": {
            "text/plain": [
              "True"
            ]
          },
          "metadata": {},
          "execution_count": 26
        }
      ]
    },
    {
      "cell_type": "code",
      "source": [
        "# Remove the word from the set of stop words\n",
        "nlp.Defaults.stop_words.remove('latter')"
      ],
      "metadata": {
        "id": "ZfikNyXMh0Qa"
      },
      "execution_count": 30,
      "outputs": []
    },
    {
      "cell_type": "code",
      "source": [
        "nlp.vocab['latter'].is_stop = False"
      ],
      "metadata": {
        "id": "65cQh7hlid3F"
      },
      "execution_count": 35,
      "outputs": []
    },
    {
      "cell_type": "code",
      "source": [
        "len(nlp.Defaults.stop_words)"
      ],
      "metadata": {
        "colab": {
          "base_uri": "https://localhost:8080/"
        },
        "id": "nhA-A_wcizOE",
        "outputId": "6bcfc768-3b69-47e2-ce08-7c1086676641"
      },
      "execution_count": 36,
      "outputs": [
        {
          "output_type": "execute_result",
          "data": {
            "text/plain": [
              "325"
            ]
          },
          "metadata": {},
          "execution_count": 36
        }
      ]
    },
    {
      "cell_type": "code",
      "source": [
        "nlp.vocab['latter'].is_stop"
      ],
      "metadata": {
        "colab": {
          "base_uri": "https://localhost:8080/"
        },
        "id": "g9nB_k2ejKuf",
        "outputId": "71d5e8c2-5000-485f-d7fe-a8f705acd16b"
      },
      "execution_count": 37,
      "outputs": [
        {
          "output_type": "execute_result",
          "data": {
            "text/plain": [
              "False"
            ]
          },
          "metadata": {},
          "execution_count": 37
        }
      ]
    },
    {
      "cell_type": "code",
      "source": [
        "import string\n",
        "import re\n",
        "import nltk\n",
        "nltk.download('punkt_tab')\n",
        "from nltk import word_tokenize,sent_tokenize\n",
        "from nltk.corpus import stopwords\n",
        "# load data\n",
        "text = 'The Quick brown fox jump over the lazy dog!'\n"
      ],
      "metadata": {
        "colab": {
          "base_uri": "https://localhost:8080/"
        },
        "id": "T2qNQ56vkcpF",
        "outputId": "e2ec2b61-adf0-4a3d-cf7d-3765de1d7547"
      },
      "execution_count": 40,
      "outputs": [
        {
          "output_type": "stream",
          "name": "stderr",
          "text": [
            "[nltk_data] Downloading package punkt_tab to /root/nltk_data...\n",
            "[nltk_data]   Unzipping tokenizers/punkt_tab.zip.\n"
          ]
        }
      ]
    },
    {
      "cell_type": "code",
      "source": [
        "tokens = word_tokenize(text)\n",
        "print(tokens)"
      ],
      "metadata": {
        "colab": {
          "base_uri": "https://localhost:8080/"
        },
        "id": "KS1vMTPBkcxL",
        "outputId": "af29654d-c7d1-41a4-bca8-b820e85e35c1"
      },
      "execution_count": 41,
      "outputs": [
        {
          "output_type": "stream",
          "name": "stdout",
          "text": [
            "['The', 'Quick', 'brown', 'fox', 'jump', 'over', 'the', 'lazy', 'dog', '!']\n"
          ]
        }
      ]
    },
    {
      "cell_type": "code",
      "source": [
        "tokens = [w.lower() for w in tokens]\n",
        "print(tokens)"
      ],
      "metadata": {
        "colab": {
          "base_uri": "https://localhost:8080/"
        },
        "id": "9iHJqCbWkc0j",
        "outputId": "044d6139-43fd-472f-891e-9170824ca1ce"
      },
      "execution_count": 42,
      "outputs": [
        {
          "output_type": "stream",
          "name": "stdout",
          "text": [
            "['the', 'quick', 'brown', 'fox', 'jump', 'over', 'the', 'lazy', 'dog', '!']\n"
          ]
        }
      ]
    },
    {
      "cell_type": "code",
      "source": [
        "re_punc = re.compile('[%s]' % re.escape(string.punctuation))\n",
        "print(re_punc)"
      ],
      "metadata": {
        "colab": {
          "base_uri": "https://localhost:8080/"
        },
        "id": "6mwWCxpEkc3R",
        "outputId": "c9b47f9a-b9b9-40d1-aaed-7c4866058edd"
      },
      "execution_count": 44,
      "outputs": [
        {
          "output_type": "stream",
          "name": "stdout",
          "text": [
            "re.compile('[!\"\\\\#\\\\$%\\\\&\\'\\\\(\\\\)\\\\*\\\\+,\\\\-\\\\./:;<=>\\\\?@\\\\[\\\\\\\\\\\\]\\\\^_`\\\\{\\\\|\\\\}\\\\~]')\n"
          ]
        }
      ]
    },
    {
      "cell_type": "code",
      "source": [
        "stripped = [re_punc.sub('', w) for w in tokens]"
      ],
      "metadata": {
        "id": "9LtDaq0zmEVW"
      },
      "execution_count": 45,
      "outputs": []
    },
    {
      "cell_type": "code",
      "source": [
        "print(stripped)"
      ],
      "metadata": {
        "colab": {
          "base_uri": "https://localhost:8080/"
        },
        "id": "zSWlZWDamVJS",
        "outputId": "06ae50bd-1a1a-49e1-b6c5-a1419acc876f"
      },
      "execution_count": 46,
      "outputs": [
        {
          "output_type": "stream",
          "name": "stdout",
          "text": [
            "['the', 'quick', 'brown', 'fox', 'jump', 'over', 'the', 'lazy', 'dog', '']\n"
          ]
        }
      ]
    },
    {
      "cell_type": "code",
      "source": [
        "words = [word for word in stripped if word.isalpha()]\n",
        "print(words)"
      ],
      "metadata": {
        "colab": {
          "base_uri": "https://localhost:8080/"
        },
        "id": "gDKZ2eq_mXSN",
        "outputId": "75e26272-aafa-404b-83ce-5f78515b0d35"
      },
      "execution_count": 47,
      "outputs": [
        {
          "output_type": "stream",
          "name": "stdout",
          "text": [
            "['the', 'quick', 'brown', 'fox', 'jump', 'over', 'the', 'lazy', 'dog']\n"
          ]
        }
      ]
    },
    {
      "cell_type": "code",
      "source": [
        "stop_words = set(stopwords.words('english'))\n",
        "words = [w for w in words if not w in stop_words]\n",
        "print(words)"
      ],
      "metadata": {
        "colab": {
          "base_uri": "https://localhost:8080/"
        },
        "id": "iYRV-Al_m4Ii",
        "outputId": "6a664b15-f227-4424-b15a-f8b8ce039af3"
      },
      "execution_count": 49,
      "outputs": [
        {
          "output_type": "stream",
          "name": "stdout",
          "text": [
            "['quick', 'brown', 'fox', 'jump', 'lazy', 'dog']\n"
          ]
        }
      ]
    },
    {
      "cell_type": "code",
      "source": [
        "nlp.vocab['dog'].is_stop"
      ],
      "metadata": {
        "colab": {
          "base_uri": "https://localhost:8080/"
        },
        "id": "o2wCXnOknTOS",
        "outputId": "604239d2-e428-49b8-e2a4-28596d1f358f"
      },
      "execution_count": 50,
      "outputs": [
        {
          "output_type": "execute_result",
          "data": {
            "text/plain": [
              "False"
            ]
          },
          "metadata": {},
          "execution_count": 50
        }
      ]
    },
    {
      "cell_type": "code",
      "source": [
        "nlp.vocab['lazy'].is_stop"
      ],
      "metadata": {
        "colab": {
          "base_uri": "https://localhost:8080/"
        },
        "id": "bPNM1TOhn2Kh",
        "outputId": "b6189a82-3b46-48fc-ea5e-cd32dbcdd01c"
      },
      "execution_count": 51,
      "outputs": [
        {
          "output_type": "execute_result",
          "data": {
            "text/plain": [
              "False"
            ]
          },
          "metadata": {},
          "execution_count": 51
        }
      ]
    },
    {
      "cell_type": "code",
      "source": [
        "nlp.vocab['jump'].is_stop"
      ],
      "metadata": {
        "colab": {
          "base_uri": "https://localhost:8080/"
        },
        "id": "Q72E3XyEn6v3",
        "outputId": "3db0f96b-befc-44f5-f8c8-e81c266d2ca1"
      },
      "execution_count": 52,
      "outputs": [
        {
          "output_type": "execute_result",
          "data": {
            "text/plain": [
              "False"
            ]
          },
          "metadata": {},
          "execution_count": 52
        }
      ]
    },
    {
      "cell_type": "code",
      "source": [
        "nlp.vocab['fox'].is_stop"
      ],
      "metadata": {
        "colab": {
          "base_uri": "https://localhost:8080/"
        },
        "id": "onvxdLq9n_oV",
        "outputId": "e5aa4fed-dc3e-461c-cacc-ada7e0269108"
      },
      "execution_count": 53,
      "outputs": [
        {
          "output_type": "execute_result",
          "data": {
            "text/plain": [
              "False"
            ]
          },
          "metadata": {},
          "execution_count": 53
        }
      ]
    },
    {
      "cell_type": "code",
      "source": [
        "nlp.vocab['brown'].is_stop"
      ],
      "metadata": {
        "colab": {
          "base_uri": "https://localhost:8080/"
        },
        "id": "D9fUgsNVoB0N",
        "outputId": "89327c44-8f0a-4bab-e8da-6d80b637a6b9"
      },
      "execution_count": 54,
      "outputs": [
        {
          "output_type": "execute_result",
          "data": {
            "text/plain": [
              "False"
            ]
          },
          "metadata": {},
          "execution_count": 54
        }
      ]
    },
    {
      "cell_type": "code",
      "source": [
        "nlp.vocab['quick'].is_stop"
      ],
      "metadata": {
        "colab": {
          "base_uri": "https://localhost:8080/"
        },
        "id": "2DNII9jhoP-_",
        "outputId": "6edaab98-a48f-4309-af63-b9ee1c258a30"
      },
      "execution_count": 55,
      "outputs": [
        {
          "output_type": "execute_result",
          "data": {
            "text/plain": [
              "False"
            ]
          },
          "metadata": {},
          "execution_count": 55
        }
      ]
    },
    {
      "cell_type": "code",
      "source": [],
      "metadata": {
        "id": "pYW60LI2oWaL"
      },
      "execution_count": null,
      "outputs": []
    }
  ]
}