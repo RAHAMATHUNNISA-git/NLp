{
  "nbformat": 4,
  "nbformat_minor": 0,
  "metadata": {
    "colab": {
      "provenance": []
    },
    "kernelspec": {
      "name": "python3",
      "display_name": "Python 3"
    },
    "language_info": {
      "name": "python"
    }
  },
  "cells": [
    {
      "cell_type": "markdown",
      "source": [
        "## **Sentence Segmentation **\n",
        "\n",
        "The process of deciding from where the sentences actually start or end in NLP or we can simply say that here we are dividing a paragraph based on sentences. This process is known as Sentence Segmentation. In Python, we implement this part of NLP using the spacy library. Spacy is used for Natural Language Processing in Python.\n",
        "\n"
      ],
      "metadata": {
        "id": "9sOYwN_Nf5TC"
      }
    },
    {
      "cell_type": "code",
      "source": [
        "# Perform standard imports\n",
        "import spacy\n",
        "nlp = spacy.load('en_core_web_sm')"
      ],
      "metadata": {
        "id": "luZlciIzgTC8"
      },
      "execution_count": 2,
      "outputs": []
    },
    {
      "cell_type": "code",
      "source": [
        "# From spacy basics:\n",
        "doc = nlp(u'This is the first sentence. This is another sentece. This is the last sentence. ')"
      ],
      "metadata": {
        "id": "5XCJruUxirxf"
      },
      "execution_count": 3,
      "outputs": []
    },
    {
      "cell_type": "code",
      "source": [
        "for sent in doc.sents:\n",
        "    print(sent)"
      ],
      "metadata": {
        "colab": {
          "base_uri": "https://localhost:8080/"
        },
        "id": "uPnz7TKujlR6",
        "outputId": "dd70d28a-8661-4bc4-9f85-786ba495105e"
      },
      "execution_count": 4,
      "outputs": [
        {
          "output_type": "stream",
          "name": "stdout",
          "text": [
            "This is the first sentence.\n",
            "This is another sentece.\n",
            "This is the last sentence.\n"
          ]
        }
      ]
    },
    {
      "cell_type": "markdown",
      "source": [
        "\"\"\"### `Doc.sents` is a generator\n",
        "It is important to note that `doc.sents` is a *generator*. That is, a Doc is not segmented until `doc.sents` is called. This means that, where you could print the second Doc token with `print(doc[1])`, you can't call the \"second Doc sentence\" with `print(doc.sents[1])`:\n",
        "\"\"\""
      ],
      "metadata": {
        "id": "AHdZatnIkZ6b"
      }
    },
    {
      "cell_type": "code",
      "source": [
        "print(doc[1])"
      ],
      "metadata": {
        "colab": {
          "base_uri": "https://localhost:8080/"
        },
        "id": "JwCAsWAWkxAB",
        "outputId": "01b7489c-2f7b-4513-bbca-bc5a9c726439"
      },
      "execution_count": 7,
      "outputs": [
        {
          "output_type": "stream",
          "name": "stdout",
          "text": [
            "is\n"
          ]
        }
      ]
    },
    {
      "cell_type": "code",
      "source": [
        "print(doc.sents[1])"
      ],
      "metadata": {
        "colab": {
          "base_uri": "https://localhost:8080/",
          "height": 141
        },
        "id": "hH_POqgKk05L",
        "outputId": "a4e782cb-3b78-4613-dcac-1dda6b50dfbd"
      },
      "execution_count": 8,
      "outputs": [
        {
          "output_type": "error",
          "ename": "TypeError",
          "evalue": "'generator' object is not subscriptable",
          "traceback": [
            "\u001b[0;31m---------------------------------------------------------------------------\u001b[0m",
            "\u001b[0;31mTypeError\u001b[0m                                 Traceback (most recent call last)",
            "\u001b[0;32m<ipython-input-8-2bc012eee1da>\u001b[0m in \u001b[0;36m<cell line: 0>\u001b[0;34m()\u001b[0m\n\u001b[0;32m----> 1\u001b[0;31m \u001b[0mprint\u001b[0m\u001b[0;34m(\u001b[0m\u001b[0mdoc\u001b[0m\u001b[0;34m.\u001b[0m\u001b[0msents\u001b[0m\u001b[0;34m[\u001b[0m\u001b[0;36m1\u001b[0m\u001b[0;34m]\u001b[0m\u001b[0;34m)\u001b[0m\u001b[0;34m\u001b[0m\u001b[0;34m\u001b[0m\u001b[0m\n\u001b[0m",
            "\u001b[0;31mTypeError\u001b[0m: 'generator' object is not subscriptable"
          ]
        }
      ]
    },
    {
      "cell_type": "markdown",
      "source": [
        "However, you *can* build a sentence collection by running `doc.sents` and saving the result to a list:"
      ],
      "metadata": {
        "id": "dsQtlb0Rlpi5"
      }
    },
    {
      "cell_type": "code",
      "source": [
        "doc_sents = [sent for sent in doc.sents]\n",
        "doc_sents"
      ],
      "metadata": {
        "colab": {
          "base_uri": "https://localhost:8080/"
        },
        "id": "xwBeY4zxlTPD",
        "outputId": "cf333a57-9446-4f23-d986-694617307bc1"
      },
      "execution_count": 9,
      "outputs": [
        {
          "output_type": "execute_result",
          "data": {
            "text/plain": [
              "[This is the first sentence.,\n",
              " This is another sentece.,\n",
              " This is the last sentence.]"
            ]
          },
          "metadata": {},
          "execution_count": 9
        }
      ]
    },
    {
      "cell_type": "markdown",
      "source": [
        "\"\"\"<font color=green>**NOTE**: `list(doc.sents)` also works. We show a list comprehension as it allows you to pass in conditionals.</font>\"\"\""
      ],
      "metadata": {
        "id": "3rPhZgvtmKIY"
      }
    },
    {
      "cell_type": "code",
      "source": [
        "#now you can access individual sentence :\n",
        "print(doc_sents[1])"
      ],
      "metadata": {
        "colab": {
          "base_uri": "https://localhost:8080/"
        },
        "id": "cdlTDZw3mE1S",
        "outputId": "a8ff3890-3e64-4967-d705-5bae2ba99d9d"
      },
      "execution_count": 10,
      "outputs": [
        {
          "output_type": "stream",
          "name": "stdout",
          "text": [
            "This is another sentece.\n"
          ]
        }
      ]
    },
    {
      "cell_type": "markdown",
      "source": [
        "`sents` are Spans\n",
        "At first glance it looks like each `sent` contains text from the original Doc object. In fact they're just Spans with start and end token pointers.\n"
      ],
      "metadata": {
        "id": "ehgCD924nA0g"
      }
    },
    {
      "cell_type": "code",
      "source": [
        "type(doc_sents[1])"
      ],
      "metadata": {
        "colab": {
          "base_uri": "https://localhost:8080/"
        },
        "id": "WmggZ8zOmsJt",
        "outputId": "615e8d62-353b-48ee-e232-50f8cb40c1a2"
      },
      "execution_count": 11,
      "outputs": [
        {
          "output_type": "execute_result",
          "data": {
            "text/plain": [
              "spacy.tokens.span.Span"
            ]
          },
          "metadata": {},
          "execution_count": 11
        }
      ]
    },
    {
      "cell_type": "code",
      "source": [
        "print(doc_sents[1].start, doc_sents[1]. end)"
      ],
      "metadata": {
        "colab": {
          "base_uri": "https://localhost:8080/"
        },
        "id": "DcncSlGPnKz2",
        "outputId": "8d7bfe9a-4dca-41e6-a3ae-7c9a7dd7737c"
      },
      "execution_count": 12,
      "outputs": [
        {
          "output_type": "stream",
          "name": "stdout",
          "text": [
            "6 11\n"
          ]
        }
      ]
    },
    {
      "cell_type": "markdown",
      "source": [
        "Adding Rules\n",
        "spaCy's built-in `sentencizer` relies on the dependency parse and end-of-sentence punctuation to determine segmentation rules. We can add rules of our own, but they have to be added *before* the creation of the Doc object, as that is where the parsing of segment start tokens happens:\n"
      ],
      "metadata": {
        "id": "--wAG0Snnldi"
      }
    },
    {
      "cell_type": "code",
      "source": [
        "#parsing the segmentation start tokens happens during the nlp pipeline\n",
        "doc2 = nlp (u'This is a sentence. This ')"
      ],
      "metadata": {
        "id": "8MvQ9Zx2njrt"
      },
      "execution_count": 13,
      "outputs": []
    },
    {
      "cell_type": "code",
      "source": [
        "for token in doc2:\n",
        "  print(token.is_sent_start, ''+token.text)"
      ],
      "metadata": {
        "colab": {
          "base_uri": "https://localhost:8080/"
        },
        "id": "TRYu-ZlXnjwJ",
        "outputId": "b7a3a622-8c8b-4411-c41e-1d1a768a9279"
      },
      "execution_count": 14,
      "outputs": [
        {
          "output_type": "stream",
          "name": "stdout",
          "text": [
            "True This\n",
            "False is\n",
            "False a\n",
            "False sentence\n",
            "False .\n",
            "True This\n"
          ]
        }
      ]
    },
    {
      "cell_type": "markdown",
      "source": [
        "<font color=green>Notice we haven't run `doc2.sents`, and yet `token.is_sent_start` was set to True on two tokens in the Doc.</font>\n",
        "\n",
        "Let's add a semicolon to our existing segmentation rules. That is, whenever the sentencizer encounters a semicolon, the next token should start a new segment.\n",
        "\n"
      ],
      "metadata": {
        "id": "m2rr4ZcVreth"
      }
    },
    {
      "cell_type": "code",
      "source": [
        "# Spacy's Default Behavior\n",
        "doc3 = nlp (u'\" Management is doing things right; leadership is doing the right things.\" -Peter Drucker')"
      ],
      "metadata": {
        "id": "eiSm8maGnjz3"
      },
      "execution_count": 15,
      "outputs": []
    },
    {
      "cell_type": "code",
      "source": [
        "for sent in doc3.sents:\n",
        "  print(sent)"
      ],
      "metadata": {
        "colab": {
          "base_uri": "https://localhost:8080/"
        },
        "id": "9HXNF3TusraJ",
        "outputId": "c52b2690-7924-4b18-cc72-f005084ca292"
      },
      "execution_count": 16,
      "outputs": [
        {
          "output_type": "stream",
          "name": "stdout",
          "text": [
            "\" Management is doing things right; leadership is doing the right things.\"\n",
            "-Peter Drucker\n"
          ]
        }
      ]
    },
    {
      "cell_type": "code",
      "source": [
        "#Add a new rule to the pipeline\n",
        "def set_custom_boundaries(doc):\n",
        "  for token in doc[:-1]:\n",
        "    if token.text == ';':\n",
        "      doc[token.i+1].is_sent_start = True\n",
        "  return doc"
      ],
      "metadata": {
        "id": "4FtJCO9js014"
      },
      "execution_count": 17,
      "outputs": []
    },
    {
      "cell_type": "code",
      "source": [
        "from spacy.language import Language\n"
      ],
      "metadata": {
        "id": "nOrx66bB61XA"
      },
      "execution_count": 18,
      "outputs": []
    },
    {
      "cell_type": "code",
      "source": [
        "@Language.component(\"set_custom_boundaries\")\n",
        "def set_custom_boundaries(doc):\n",
        "    # Your custom logic here\n",
        "    return doc\n"
      ],
      "metadata": {
        "id": "4vA7IDtb61bf"
      },
      "execution_count": 19,
      "outputs": []
    },
    {
      "cell_type": "code",
      "source": [
        "nlp.add_pipe(\"set_custom_boundaries\", before=\"parser\")\n"
      ],
      "metadata": {
        "colab": {
          "base_uri": "https://localhost:8080/",
          "height": 103
        },
        "id": "YnmeQglh61hF",
        "outputId": "dc977e8f-0b2a-47b3-9bf7-aa1e4231dbb8"
      },
      "execution_count": 20,
      "outputs": [
        {
          "output_type": "execute_result",
          "data": {
            "text/plain": [
              "<function __main__.set_custom_boundaries(doc)>"
            ],
            "text/html": [
              "<div style=\"max-width:800px; border: 1px solid var(--colab-border-color);\"><style>\n",
              "      pre.function-repr-contents {\n",
              "        overflow-x: auto;\n",
              "        padding: 8px 12px;\n",
              "        max-height: 500px;\n",
              "      }\n",
              "\n",
              "      pre.function-repr-contents.function-repr-contents-collapsed {\n",
              "        cursor: pointer;\n",
              "        max-height: 100px;\n",
              "      }\n",
              "    </style>\n",
              "    <pre style=\"white-space: initial; background:\n",
              "         var(--colab-secondary-surface-color); padding: 8px 12px;\n",
              "         border-bottom: 1px solid var(--colab-border-color);\"><b>set_custom_boundaries</b><br/>def set_custom_boundaries(doc)</pre><pre class=\"function-repr-contents function-repr-contents-collapsed\" style=\"\"><a class=\"filepath\" style=\"display:none\" href=\"#\">/content/&lt;ipython-input-19-4ae92e2f766f&gt;</a>&lt;no docstring&gt;</pre></div>"
            ]
          },
          "metadata": {},
          "execution_count": 20
        }
      ]
    },
    {
      "cell_type": "code",
      "source": [
        "nlp.pipe_names"
      ],
      "metadata": {
        "colab": {
          "base_uri": "https://localhost:8080/"
        },
        "id": "aWxePiKruXrZ",
        "outputId": "6a19c110-19dc-4ef2-bd96-ac2af4769905"
      },
      "execution_count": 21,
      "outputs": [
        {
          "output_type": "execute_result",
          "data": {
            "text/plain": [
              "['tok2vec',\n",
              " 'tagger',\n",
              " 'set_custom_boundaries',\n",
              " 'parser',\n",
              " 'attribute_ruler',\n",
              " 'lemmatizer',\n",
              " 'ner']"
            ]
          },
          "metadata": {},
          "execution_count": 21
        }
      ]
    },
    {
      "cell_type": "markdown",
      "source": [
        "\"\"\"<font color=green>The new rule has to run before the document is parsed. Here we can either pass the argument `before='parser'` or `first=True`.\"\"\"\n"
      ],
      "metadata": {
        "id": "xRvcYQB22dwC"
      }
    },
    {
      "cell_type": "code",
      "source": [
        "#Re-run the Doc object creation:\n",
        "doc4 = nlp(u'\" Management is doing things right; leadership is doing the right things.\" -Peter Drucker')\n",
        "for sent in doc4.sents:\n",
        "  print(sent)"
      ],
      "metadata": {
        "colab": {
          "base_uri": "https://localhost:8080/"
        },
        "id": "6qQ_E5LD3YZI",
        "outputId": "0c51bc50-3144-4a71-dec2-2f3a5adf6a22"
      },
      "execution_count": 22,
      "outputs": [
        {
          "output_type": "stream",
          "name": "stdout",
          "text": [
            "\" Management is doing things right; leadership is doing the right things.\"\n",
            "-Peter Drucker\n"
          ]
        }
      ]
    },
    {
      "cell_type": "code",
      "source": [
        "for sent in doc3.sents:\n",
        "  print(sent)"
      ],
      "metadata": {
        "colab": {
          "base_uri": "https://localhost:8080/"
        },
        "id": "LFOoUYPc2_5y",
        "outputId": "f16d3ca5-932c-430f-9dd2-6a7f763a8944"
      },
      "execution_count": 23,
      "outputs": [
        {
          "output_type": "stream",
          "name": "stdout",
          "text": [
            "\" Management is doing things right; leadership is doing the right things.\"\n",
            "-Peter Drucker\n"
          ]
        }
      ]
    },
    {
      "cell_type": "markdown",
      "source": [
        "Why not change the token directly?\n",
        "Why not simply set the `.is_sent_start` value to True on existing tokens?\n"
      ],
      "metadata": {
        "id": "YRI_j0Hs3lxU"
      }
    },
    {
      "cell_type": "code",
      "source": [
        "#Find the token we want to change:\n",
        "doc3[7]"
      ],
      "metadata": {
        "colab": {
          "base_uri": "https://localhost:8080/"
        },
        "id": "35v9zFWY3ikD",
        "outputId": "7047b754-86c5-4721-80e4-e43f8c8f81a4"
      },
      "execution_count": 24,
      "outputs": [
        {
          "output_type": "execute_result",
          "data": {
            "text/plain": [
              "leadership"
            ]
          },
          "metadata": {},
          "execution_count": 24
        }
      ]
    },
    {
      "cell_type": "code",
      "source": [
        "doc3[7].is_sent_start = True"
      ],
      "metadata": {
        "colab": {
          "base_uri": "https://localhost:8080/",
          "height": 176
        },
        "id": "C6h5lNM43yOd",
        "outputId": "13ce832b-0f42-4cb3-bae4-7b13c2314c92"
      },
      "execution_count": 25,
      "outputs": [
        {
          "output_type": "error",
          "ename": "ValueError",
          "evalue": "[E043] Refusing to write to token.sent_start if its document is parsed, because this may cause inconsistent state.",
          "traceback": [
            "\u001b[0;31m---------------------------------------------------------------------------\u001b[0m",
            "\u001b[0;31mValueError\u001b[0m                                Traceback (most recent call last)",
            "\u001b[0;32m<ipython-input-25-83de2f71bb2a>\u001b[0m in \u001b[0;36m<cell line: 0>\u001b[0;34m()\u001b[0m\n\u001b[0;32m----> 1\u001b[0;31m \u001b[0mdoc3\u001b[0m\u001b[0;34m[\u001b[0m\u001b[0;36m7\u001b[0m\u001b[0;34m]\u001b[0m\u001b[0;34m.\u001b[0m\u001b[0mis_sent_start\u001b[0m \u001b[0;34m=\u001b[0m \u001b[0;32mTrue\u001b[0m\u001b[0;34m\u001b[0m\u001b[0;34m\u001b[0m\u001b[0m\n\u001b[0m",
            "\u001b[0;32m/usr/local/lib/python3.11/dist-packages/spacy/tokens/token.pyx\u001b[0m in \u001b[0;36mspacy.tokens.token.Token.is_sent_start.__set__\u001b[0;34m()\u001b[0m\n",
            "\u001b[0;31mValueError\u001b[0m: [E043] Refusing to write to token.sent_start if its document is parsed, because this may cause inconsistent state."
          ]
        }
      ]
    },
    {
      "cell_type": "markdown",
      "source": [
        "<font color=green>spaCy refuses to change the tag after the document is parsed to prevent inconsistencies in the data.</font>\n",
        "\n",
        "## Changing the Rules\n",
        "In some cases we want to *replace* spaCy's default sentencizer with our own set of rules. In this section we'll see how the default sentencizer breaks on periods. We'll then replace this behavior with a sentencizer that breaks on linebreaks.\n",
        "\"\"\"\n"
      ],
      "metadata": {
        "id": "Stgs1d4L4PI6"
      }
    },
    {
      "cell_type": "code",
      "source": [
        "nlp = spacy.load('en_core_web_sm') #reset to the original"
      ],
      "metadata": {
        "id": "j2-ZiZ-y4ISC"
      },
      "execution_count": 26,
      "outputs": []
    },
    {
      "cell_type": "code",
      "source": [
        "mystring = u\"This is a asentence. This is another .\\n\\nThis is a \\nthird sntence.\""
      ],
      "metadata": {
        "id": "pPEVu99o4bsm"
      },
      "execution_count": 27,
      "outputs": []
    },
    {
      "cell_type": "code",
      "source": [
        "#Spacy Default Behaviour:\n",
        "doc = nlp(mystring)"
      ],
      "metadata": {
        "id": "U1UZgdrk4qhr"
      },
      "execution_count": 28,
      "outputs": []
    },
    {
      "cell_type": "code",
      "source": [
        "for sent in doc.sents:\n",
        "  print([token.text for token in sent])"
      ],
      "metadata": {
        "colab": {
          "base_uri": "https://localhost:8080/"
        },
        "id": "n9-qasHe4vbx",
        "outputId": "5938cf8d-bdcd-41b8-d52a-dac3f3c3624d"
      },
      "execution_count": 29,
      "outputs": [
        {
          "output_type": "stream",
          "name": "stdout",
          "text": [
            "['This', 'is', 'a', 'asentence', '.']\n",
            "['This', 'is', 'another', '.', '\\n\\n']\n",
            "['This', 'is', 'a', '\\n', 'third', 'sntence', '.']\n"
          ]
        }
      ]
    },
    {
      "cell_type": "code",
      "source": [
        "#changing the rules\n",
        "from spacy.language import Language"
      ],
      "metadata": {
        "id": "Lvp9h3-q43gK"
      },
      "execution_count": 32,
      "outputs": []
    },
    {
      "cell_type": "code",
      "source": [
        "@Language.component(\"custom_sentencizer\")\n",
        "def custom_sentencizer(doc):\n",
        "    for token in doc[:-1]:\n",
        "        if token.text == \"\\n\":\n",
        "            doc[token.i+1].is_sent_start = True\n",
        "    return doc"
      ],
      "metadata": {
        "id": "UNvAd7P15Nbi"
      },
      "execution_count": 34,
      "outputs": []
    },
    {
      "cell_type": "code",
      "source": [
        "nlp.add_pipe(\"custom_sentencizer\", before=\"parser\")"
      ],
      "metadata": {
        "colab": {
          "base_uri": "https://localhost:8080/",
          "height": 103
        },
        "id": "SwHOHgfn6ob6",
        "outputId": "fb7a6608-850e-4804-ab7b-ca4d2c2c4670"
      },
      "execution_count": 35,
      "outputs": [
        {
          "output_type": "execute_result",
          "data": {
            "text/plain": [
              "<function __main__.custom_sentencizer(doc)>"
            ],
            "text/html": [
              "<div style=\"max-width:800px; border: 1px solid var(--colab-border-color);\"><style>\n",
              "      pre.function-repr-contents {\n",
              "        overflow-x: auto;\n",
              "        padding: 8px 12px;\n",
              "        max-height: 500px;\n",
              "      }\n",
              "\n",
              "      pre.function-repr-contents.function-repr-contents-collapsed {\n",
              "        cursor: pointer;\n",
              "        max-height: 100px;\n",
              "      }\n",
              "    </style>\n",
              "    <pre style=\"white-space: initial; background:\n",
              "         var(--colab-secondary-surface-color); padding: 8px 12px;\n",
              "         border-bottom: 1px solid var(--colab-border-color);\"><b>custom_sentencizer</b><br/>def custom_sentencizer(doc)</pre><pre class=\"function-repr-contents function-repr-contents-collapsed\" style=\"\"><a class=\"filepath\" style=\"display:none\" href=\"#\">/content/&lt;ipython-input-34-6f16873a7deb&gt;</a>&lt;no docstring&gt;</pre></div>"
            ]
          },
          "metadata": {},
          "execution_count": 35
        }
      ]
    },
    {
      "cell_type": "code",
      "source": [
        "doc = nlp(\"This is a sentence.\\nThis is a new one.\")\n",
        "for sent in doc.sents:\n",
        "    print(sent.text)"
      ],
      "metadata": {
        "colab": {
          "base_uri": "https://localhost:8080/"
        },
        "id": "XUF5om1S61Zv",
        "outputId": "5e6e97d1-21b6-40ec-df55-882a7b927920"
      },
      "execution_count": 36,
      "outputs": [
        {
          "output_type": "stream",
          "name": "stdout",
          "text": [
            "This is a sentence.\n",
            "\n",
            "This is a new one.\n"
          ]
        }
      ]
    },
    {
      "cell_type": "code",
      "source": [
        "def split_on_newlines(doc):\n",
        "  start = 0\n",
        "  seen_newline = False\n",
        "  for word in doc:\n",
        "    if seen_newline:\n",
        "      yield doc[start:word.i]\n",
        "      start = word.i\n",
        "      seen_newline = False\n",
        "    elif word.text.startswith('\\n'): #handles multiple occurrence\n",
        "      seen_newline = True\n",
        "  yield doc[start:]  #handles the last group of tokens"
      ],
      "metadata": {
        "id": "NxTfBJX16_W-"
      },
      "execution_count": 37,
      "outputs": []
    },
    {
      "cell_type": "markdown",
      "source": [
        "<font color=green>While the function `split_on_newlines` can be named anything we want, it's important to use the name `sbd` for the SentenceSegmenter.</font>"
      ],
      "metadata": {
        "id": "ur4cW7Jc-B8J"
      }
    },
    {
      "cell_type": "code",
      "source": [
        "doc = nlp(mystring)\n",
        "for sent in doc.sents:\n",
        "    print([token.text for token in sent])"
      ],
      "metadata": {
        "colab": {
          "base_uri": "https://localhost:8080/"
        },
        "id": "xd2gprxn-BQZ",
        "outputId": "d468e057-7dd3-4342-b1ac-2295900cdad6"
      },
      "execution_count": 41,
      "outputs": [
        {
          "output_type": "stream",
          "name": "stdout",
          "text": [
            "['This', 'is', 'a', 'asentence', '.']\n",
            "['This', 'is', 'another', '.', '\\n\\n']\n",
            "['This', 'is', 'a', '\\n']\n",
            "['third']\n",
            "['sntence', '.']\n"
          ]
        }
      ]
    },
    {
      "cell_type": "code",
      "source": [],
      "metadata": {
        "id": "fhCaleoF8kLx"
      },
      "execution_count": null,
      "outputs": []
    }
  ]
}